{
 "cells": [
  {
   "cell_type": "code",
   "execution_count": 11,
   "metadata": {},
   "outputs": [],
   "source": [
    "## import certain packages\n",
    "from math import log, sqrt, pi, exp\n",
    "from scipy.stats import norm\n",
    "from datetime import datetime, date\n",
    "import numpy as np\n",
    "import pandas as pd\n",
    "from pandas import DataFrame"
   ]
  },
  {
   "cell_type": "code",
   "execution_count": 12,
   "metadata": {},
   "outputs": [],
   "source": [
    "# Underlying price (per share): S; \n",
    "# Strike price of the option (per share): K;\n",
    "# Time to maturity (years): T;\n",
    "# Continuously compounding risk-free interest rate: r;\n",
    "# Volatility: sigma;\n",
    "\n",
    "## define two functions, d1 and d2 in Black-Scholes model\n",
    "def d1(S,K,T,r,sigma):\n",
    "    return(log(S/K)+(r+sigma**2/2.)*T)/sigma*sqrt(T)\n",
    "def d2(S,K,T,r,sigma):\n",
    "    return d1(S,K,T,r,sigma)-sigma*sqrt(T)"
   ]
  },
  {
   "cell_type": "code",
   "execution_count": 13,
   "metadata": {},
   "outputs": [],
   "source": [
    "## define the call options price function\n",
    "def bs_call(S,K,T,r,sigma):\n",
    "    return S*norm.cdf(d1(S,K,T,r,sigma))-K*exp(-r*T)*norm.cdf(d2(S,K,T,r,sigma))"
   ]
  },
  {
   "cell_type": "code",
   "execution_count": 14,
   "metadata": {},
   "outputs": [],
   "source": [
    "## define the put options price function\n",
    "def bs_put(S,K,T,r,sigma):\n",
    "    return K*exp(-r*T)-S+bs_call(S,K,T,r,sigma)"
   ]
  },
  {
   "cell_type": "code",
   "execution_count": 15,
   "metadata": {},
   "outputs": [],
   "source": [
    "## define the Call_Greeks of an option\n",
    "def call_delta(S,K,T,r,sigma):\n",
    "    return norm.cdf(d1(S,K,T,r,sigma))\n",
    "def call_gamma(S,K,T,r,sigma):\n",
    "    return norm.pdf(d1(S,K,T,r,sigma))/(S*sigma*sqrt(T))\n",
    "def call_vega(S,K,T,r,sigma):\n",
    "    return 0.01*(S*norm.pdf(d1(S,K,T,r,sigma))*sqrt(T))\n",
    "def call_theta(S,K,T,r,sigma):\n",
    "    return 0.01*(-(S*norm.pdf(d1(S,K,T,r,sigma))*sigma)/(2*sqrt(T)) - r*K*exp(-r*T)*norm.cdf(d2(S,K,T,r,sigma)))\n",
    "def call_rho(S,K,T,r,sigma):\n",
    "    return 0.01*(K*T*exp(-r*T)*norm.cdf(d2(S,K,T,r,sigma)))"
   ]
  },
  {
   "cell_type": "code",
   "execution_count": 16,
   "metadata": {},
   "outputs": [],
   "source": [
    "## define the Put_Greeks of an option\n",
    "def put_delta(S,K,T,r,sigma):\n",
    "    return -norm.cdf(-d1(S,K,T,r,sigma))\n",
    "def put_gamma(S,K,T,r,sigma):\n",
    "    return norm.pdf(d1(S,K,T,r,sigma))/(S*sigma*sqrt(T))\n",
    "def put_vega(S,K,T,r,sigma):\n",
    "    return 0.01*(S*norm.pdf(d1(S,K,T,r,sigma))*sqrt(T))\n",
    "def put_theta(S,K,T,r,sigma):\n",
    "    return 0.01*(-(S*norm.pdf(d1(S,K,T,r,sigma))*sigma)/(2*sqrt(T)) + r*K*exp(-r*T)*norm.cdf(-d2(S,K,T,r,sigma)))\n",
    "def put_rho(S,K,T,r,sigma):\n",
    "    return 0.01*(-K*T*exp(-r*T)*norm.cdf(-d2(S,K,T,r,sigma)))"
   ]
  },
  {
   "cell_type": "markdown",
   "metadata": {},
   "source": [
    "###### Input "
   ]
  },
  {
   "cell_type": "code",
   "execution_count": 17,
   "metadata": {},
   "outputs": [
    {
     "name": "stdout",
     "output_type": "stream",
     "text": [
      "What is the current stock price? 100\n",
      "What is the strike price? 100\n",
      "What is the expiration date of the options? (mm-dd-yyyy) 03-07-2022\n",
      "What is the continuously compounding risk-free interest rate in percentage(%)? 5\n",
      "What is the volatility in percentage(%)? 20\n"
     ]
    }
   ],
   "source": [
    "## input the current stock price and check if it is a number.\n",
    "S = input(\"What is the current stock price? \");\n",
    "while True:\n",
    "    try:\n",
    "        S = float(S)\n",
    "        break\n",
    "    except:\n",
    "        print(\"The current stock price has to be a NUMBER.\")\n",
    "        S = input(\"What is the current stock price? \")\n",
    "\n",
    "## input the strike price and check if it is a number.\n",
    "K = input(\"What is the strike price? \");\n",
    "while True:\n",
    "    try:\n",
    "        K = float(K)\n",
    "        break\n",
    "    except:\n",
    "        print(\"The the strike price has to be a NUMBER.\")\n",
    "        K = input(\"What is the strike price? \")\n",
    "\n",
    "\n",
    "## input the expiration_date and calculate the days between today and the expiration date.\n",
    "while True:\n",
    "    expiration_date = input(\"What is the expiration date of the options? (mm-dd-yyyy) \")\n",
    "    try:\n",
    "        expiration_date = datetime.strptime(expiration_date, \"%m-%d-%Y\")\n",
    "    except ValueError as e:\n",
    "        print(\"error: %s\\nTry again.\" % (e,))\n",
    "    else:\n",
    "        break\n",
    "T = (expiration_date - datetime.utcnow()).days / 365\n",
    "\n",
    "\n",
    "## input the continuously compounding risk-free interest rate and check if it is a number.\n",
    "r = input(\"What is the continuously compounding risk-free interest rate in percentage(%)? \");\n",
    "while True:\n",
    "    try:\n",
    "        r = float(r)\n",
    "        break\n",
    "    except:\n",
    "        print(\"The continuously compounding risk-free interest rate has to be a NUMBER.\")\n",
    "        r = input(\"What is the continuously compounding risk-free interest rate in percentage(%)? \")\n",
    "        \n",
    "\n",
    "## input the volatility and check if it is a number.\n",
    "sigma = input(\"What is the volatility in percentage(%)? \"); \n",
    "while True:\n",
    "    try:\n",
    "        sigma = float(sigma)\n",
    "        if sigma > 100 or sigma < 0:\n",
    "            print ( \"The range of sigma has to be in [0,100].\")\n",
    "            sigma = input(\"What is the volatility in percentage(%)? \")\n",
    "        break\n",
    "    except:\n",
    "        print(\"The volatility has to be a NUMBER.\")\n",
    "        sigma = input(\"What is the volatility in percentage(%)? \")"
   ]
  },
  {
   "cell_type": "code",
   "execution_count": 18,
   "metadata": {},
   "outputs": [
    {
     "data": {
      "text/html": [
       "<div>\n",
       "<style scoped>\n",
       "    .dataframe tbody tr th:only-of-type {\n",
       "        vertical-align: middle;\n",
       "    }\n",
       "\n",
       "    .dataframe tbody tr th {\n",
       "        vertical-align: top;\n",
       "    }\n",
       "\n",
       "    .dataframe thead th {\n",
       "        text-align: right;\n",
       "    }\n",
       "</style>\n",
       "<table border=\"1\" class=\"dataframe\">\n",
       "  <thead>\n",
       "    <tr style=\"text-align: right;\">\n",
       "      <th></th>\n",
       "      <th>Symbol</th>\n",
       "      <th>Input</th>\n",
       "    </tr>\n",
       "  </thead>\n",
       "  <tbody>\n",
       "    <tr>\n",
       "      <th>Underlying price</th>\n",
       "      <td>S</td>\n",
       "      <td>100.00000</td>\n",
       "    </tr>\n",
       "    <tr>\n",
       "      <th>Strike price</th>\n",
       "      <td>K</td>\n",
       "      <td>100.00000</td>\n",
       "    </tr>\n",
       "    <tr>\n",
       "      <th>Time to maturity</th>\n",
       "      <td>T</td>\n",
       "      <td>0.99726</td>\n",
       "    </tr>\n",
       "    <tr>\n",
       "      <th>Risk-free interest rate</th>\n",
       "      <td>r</td>\n",
       "      <td>5.00000</td>\n",
       "    </tr>\n",
       "    <tr>\n",
       "      <th>Volatility</th>\n",
       "      <td>sigma</td>\n",
       "      <td>20.00000</td>\n",
       "    </tr>\n",
       "  </tbody>\n",
       "</table>\n",
       "</div>"
      ],
      "text/plain": [
       "                        Symbol      Input\n",
       "Underlying price             S  100.00000\n",
       "Strike price                 K  100.00000\n",
       "Time to maturity             T    0.99726\n",
       "Risk-free interest rate      r    5.00000\n",
       "Volatility               sigma   20.00000"
      ]
     },
     "execution_count": 18,
     "metadata": {},
     "output_type": "execute_result"
    }
   ],
   "source": [
    "## make a DataFrame of these inputs\n",
    "\n",
    "data = {'Symbol': ['S', 'K', 'T', 'r', 'sigma'],\n",
    "        'Input': [S, K, T , r , sigma]}\n",
    "input_frame = DataFrame(data, columns=['Symbol', 'Input'], \n",
    "                   index=['Underlying price', 'Strike price', 'Time to maturity', 'Risk-free interest rate', 'Volatility'])\n",
    "input_frame"
   ]
  },
  {
   "cell_type": "markdown",
   "metadata": {},
   "source": [
    "###### Output"
   ]
  },
  {
   "cell_type": "code",
   "execution_count": 19,
   "metadata": {},
   "outputs": [
    {
     "data": {
      "text/html": [
       "<div>\n",
       "<style scoped>\n",
       "    .dataframe tbody tr th:only-of-type {\n",
       "        vertical-align: middle;\n",
       "    }\n",
       "\n",
       "    .dataframe tbody tr th {\n",
       "        vertical-align: top;\n",
       "    }\n",
       "\n",
       "    .dataframe thead th {\n",
       "        text-align: right;\n",
       "    }\n",
       "</style>\n",
       "<table border=\"1\" class=\"dataframe\">\n",
       "  <thead>\n",
       "    <tr style=\"text-align: right;\">\n",
       "      <th></th>\n",
       "      <th>Call</th>\n",
       "      <th>Put</th>\n",
       "    </tr>\n",
       "  </thead>\n",
       "  <tbody>\n",
       "    <tr>\n",
       "      <th>Price</th>\n",
       "      <td>10.433000</td>\n",
       "      <td>5.568973</td>\n",
       "    </tr>\n",
       "    <tr>\n",
       "      <th>delta</th>\n",
       "      <td>0.636291</td>\n",
       "      <td>-0.363709</td>\n",
       "    </tr>\n",
       "    <tr>\n",
       "      <th>gamma</th>\n",
       "      <td>0.018797</td>\n",
       "      <td>0.018797</td>\n",
       "    </tr>\n",
       "    <tr>\n",
       "      <th>vega</th>\n",
       "      <td>0.374914</td>\n",
       "      <td>0.374914</td>\n",
       "    </tr>\n",
       "    <tr>\n",
       "      <th>rho</th>\n",
       "      <td>0.530504</td>\n",
       "      <td>-0.418250</td>\n",
       "    </tr>\n",
       "    <tr>\n",
       "      <th>theta</th>\n",
       "      <td>-0.064192</td>\n",
       "      <td>-0.016624</td>\n",
       "    </tr>\n",
       "  </tbody>\n",
       "</table>\n",
       "</div>"
      ],
      "text/plain": [
       "            Call       Put\n",
       "Price  10.433000  5.568973\n",
       "delta   0.636291 -0.363709\n",
       "gamma   0.018797  0.018797\n",
       "vega    0.374914  0.374914\n",
       "rho     0.530504 -0.418250\n",
       "theta  -0.064192 -0.016624"
      ]
     },
     "execution_count": 19,
     "metadata": {},
     "output_type": "execute_result"
    }
   ],
   "source": [
    "## calculate the call / put option price and the greeks of the call / put option\n",
    "r = r/100; sigma = sigma/100;\n",
    "price_and_greeks = {'Call' : [bs_call(S,K,T,r,sigma), call_delta(S,K,T,r,sigma), call_gamma(S,K,T,r,sigma),call_vega(S,K,T,r,sigma), call_rho(S,K,T,r,sigma), call_theta(S,K,T,r,sigma)],\n",
    "                    'Put' : [bs_put(S,K,T,r,sigma), put_delta(S,K,T,r,sigma), put_gamma(S,K,T,r,sigma),put_vega(S,K,T,r,sigma), put_rho(S,K,T,r,sigma), put_theta(S,K,T,r,sigma)]}\n",
    "price_and_greeks_frame = DataFrame(price_and_greeks, columns=['Call','Put'], index=['Price', 'delta', 'gamma','vega','rho','theta'])\n",
    "price_and_greeks_frame"
   ]
  },
  {
   "cell_type": "markdown",
   "metadata": {},
   "source": [
    "#### Implied volatility"
   ]
  },
  {
   "cell_type": "code",
   "execution_count": 20,
   "metadata": {},
   "outputs": [
    {
     "name": "stdout",
     "output_type": "stream",
     "text": [
      "Put or Call option? (P/C)  C\n",
      "What is the option price? 10.433000\n"
     ]
    }
   ],
   "source": [
    "## input a put or call option price\n",
    "\n",
    "option = input (\"Put or Call option? (P/C)  \")\n",
    "while option != 'P' and option !='C' :\n",
    "    print (\"error: this option does not match the format (P/C) \\nTry again.\")\n",
    "    option = input (\"Put or Call option? (P/C)  \")\n",
    "\n",
    "Price = input(\"What is the option price? \");\n",
    "while True:\n",
    "    try:\n",
    "        Price = float(Price)\n",
    "        break\n",
    "    except:\n",
    "        print(\"The the option price has to be a NUMBER.\")\n",
    "        Price = input(\"What is the option price? \")"
   ]
  },
  {
   "cell_type": "code",
   "execution_count": 21,
   "metadata": {},
   "outputs": [
    {
     "name": "stdout",
     "output_type": "stream",
     "text": [
      "[['Price' 'S' 'K' 'T' 'r']\n",
      " ['10.433' '100.0' '100.0' '0.9972602739726028' '0.05']]\n",
      "The implied volatility is 20.000000000000014 %.\n"
     ]
    }
   ],
   "source": [
    "## to calculate the volatility of a put/call option\n",
    "\n",
    "def implied_volatility(Price,S,K,T,r):\n",
    "    sigma = 0.001\n",
    "    print (np.array([['Price', 'S', 'K', 'T', 'r'], [Price, S, K, T, r]]))\n",
    "    if option == 'C':\n",
    "        while sigma < 1:\n",
    "            Price_implied = S*norm.cdf(d1(S,K,T,r,sigma))-K*exp(-r*T)*norm.cdf(d2(S,K,T,r,sigma))\n",
    "            if Price-(Price_implied) < 0.001:\n",
    "                return sigma\n",
    "            sigma += 0.001\n",
    "        return \"It could not find the right volatility of the call option.\"\n",
    "    else:\n",
    "        while sigma < 1:\n",
    "            Price_implied = K*exp(-r*T)-S+bs_call(S,K,T,r,sigma)\n",
    "            if Price-(Price_implied) < 0.001:\n",
    "                return sigma\n",
    "            sigma += 0.001\n",
    "        return \"It could not find the right volatility of the put option.\"\n",
    "    return\n",
    "\n",
    "print (\"The implied volatility is \" + str (100* implied_volatility(Price,S,K,T,r)) + \" %.\")"
   ]
  },
  {
   "cell_type": "code",
   "execution_count": null,
   "metadata": {},
   "outputs": [],
   "source": []
  }
 ],
 "metadata": {
  "kernelspec": {
   "display_name": "Python 3",
   "language": "python",
   "name": "python3"
  },
  "language_info": {
   "codemirror_mode": {
    "name": "ipython",
    "version": 3
   },
   "file_extension": ".py",
   "mimetype": "text/x-python",
   "name": "python",
   "nbconvert_exporter": "python",
   "pygments_lexer": "ipython3",
   "version": "3.8.3"
  }
 },
 "nbformat": 4,
 "nbformat_minor": 2
}
